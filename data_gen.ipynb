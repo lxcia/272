{
 "cells": [
  {
   "cell_type": "code",
   "execution_count": 1,
   "id": "01eecc52",
   "metadata": {},
   "outputs": [],
   "source": [
    "import numpy as np\n",
    "import pandas as pd\n",
    "import scipy   "
   ]
  },
  {
   "cell_type": "code",
   "execution_count": null,
   "id": "05c8dcb7",
   "metadata": {},
   "outputs": [],
   "source": [
    "def generate_clinic(num_patients):\n",
    "    lh_fsh_ratio = np.random.normal(1.7,0.7,num_patients)\n",
    "    estradiol = np.random.normal(87.6,21.1,num_patients)\n",
    "    testosterone = np.random.normal(71.4,27.9,num_patients)\n",
    "    fai = np.random.normal(11.8,8.7,num_patients)\n",
    "    shbg = np.random.normal(25.9,13.4,num_patients)\n",
    "    progesterone_17oh = np.random.normal(1.6,1,num_patients)\n",
    "    dheas = np.random.normal(777.5,1135.8,num_patients)\n",
    "    androstenedione = np.random.normal(5.2,4.3,num_patients)\n",
    "    inhibin_b = np.random.normal(88.6,47.5,num_patients)\n",
    "    \n",
    "    combined = np.column_stack((lh_fsh_ratio, estradiol, testosterone, fai, shbg, progesterone_17oh, dheas, androstenedione, inhibin_b))\n",
    "    combined_df.columns = [\"lh_fsh_ratio\", \"estradiol\", \"testosterone\", \"fai\", \"shbg\", \"progesterone_17oh\", \"dheas\", \"androstenedione\", \"inhibin_b\"]\n",
    "    return combined_df"
   ]
  },
  {
   "cell_type": "code",
   "execution_count": 2,
   "id": "27716f3e",
   "metadata": {},
   "outputs": [],
   "source": [
    "hormones = {\n",
    "    \"lh_fsh_ratio\" : (1.7,0.7),\n",
    "    \"estradiol\" : (87.6,21.1),\n",
    "    \"testosterone\" : (71.4,27.9),\n",
    "    \"progesterone_17oh\" : (1.6,1),\n",
    "    \"dheas\" : (777.5,1135.8),\n",
    "    \"androstenedione\" : (5.2,4.3),\n",
    "    \"amh\" : (76.0, 36.3)\n",
    "}"
   ]
  },
  {
   "cell_type": "code",
   "execution_count": 3,
   "id": "26822fc8",
   "metadata": {},
   "outputs": [
    {
     "name": "stdout",
     "output_type": "stream",
     "text": [
      "Number ranges 8\n",
      "Number ranges 10\n",
      "Number ranges 5\n",
      "Number ranges 6\n",
      "Number ranges 5\n",
      "Number ranges 9\n",
      "Number ranges 8\n",
      "*************\n",
      "lh_fsh_ratio\n",
      "[(0, 0.8947554337367944, 0.6261156189532175), (0.8947554337367944, 1.2278571748627427, 1.0789974086867868), (1.2278571748627427, 1.4769524452249374, 1.3578565122197312), (1.4769524452249374, 1.7, 1.5898825207728804), (1.7, 1.9230475547750625, 1.8101174792271195), (1.9230475547750625, 2.172142825137257, 2.0421434877802684), (2.172142825137257, 2.5052445662632055, 2.321002591313213), (2.5052445662632055, 4.5, 2.7738843810467824)]\n",
      "*************\n",
      "*************\n",
      "estradiol\n",
      "[(0, 60.55926196700892, 52.893588471323916), (60.55926196700892, 69.8417919716115, 65.73125548168103), (69.8417919716115, 76.53514918186033, 73.36826627086268), (76.53514918186033, 82.25437612383462, 79.46973815880031), (82.25437612383462, 87.6, 84.94854558135793), (87.6, 92.94562387616537, 90.25145441864206), (92.94562387616537, 98.66485081813966, 95.73026184119968), (98.66485081813966, 105.35820802838849, 101.83173372913731), (105.35820802838849, 114.64073803299107, 109.46874451831896), (114.64073803299107, 172.0, 122.30641152867605)]\n",
      "*************\n",
      "*************\n",
      "testosterone\n",
      "[(0, 47.9187675833157, 35.64471132130566), (47.9187675833157, 64.3316158225112, 56.76922569544567), (64.3316158225112, 78.46838417748882, 71.4), (78.46838417748882, 94.88123241668431, 86.03077430455434), (94.88123241668431, 183.0, 107.15528867869435)]\n",
      "*************\n",
      "*************\n",
      "progesterone_17oh\n",
      "[(0, 0.632578433898299, 0.21700587289936202), (0.632578433898299, 1.1692727007045427, 0.9255102498039184), (1.1692727007045427, 1.6, 1.3895716057520755), (1.6, 2.030727299295458, 1.810428394247925), (2.030727299295458, 2.567421566101701, 2.2744897501960817), (2.567421566101701, 5.6, 2.9829941271006373)]\n",
      "*************\n",
      "*************\n",
      "dheas\n",
      "[(0, -178.41339709211593, -678.0862681455571), (0, 489.7483602583587, 181.88589766620714), (489.7483602583587, 1065.2516397416414, 777.5), (1065.2516397416414, 1733.4133970921162, 1373.1141023337925), (1733.4133970921162, 5320.7, 2233.0862681455574)]\n",
      "*************\n",
      "*************\n",
      "androstenedione\n",
      "[(0, -0.048753500043605236, -1.6508409174991172), (0, 1.9117484027185356, 1.0400872657626863), (1.9117484027185356, 3.3478726130295335, 2.6653400692459535), (3.3478726130295335, 4.599245714807993, 3.9864705676312147), (4.599245714807993, 5.800754285192007, 5.2), (5.800754285192007, 7.052127386970469, 6.413529432368786), (7.052127386970469, 8.488251597281462, 7.734659930754049), (8.488251597281462, 10.448753500043603, 9.359912734237312), (10.448753500043603, 22.4, 12.050840917499116)]\n",
      "*************\n",
      "*************\n",
      "amh\n",
      "[(0, 34.24231749235092, 20.311424240002573), (34.24231749235092, 51.51602206788223, 43.796579907614806), (51.51602206788223, 64.43339108809319, 58.2574162765375), (64.43339108809319, 76.0, 70.2896221486508), (76.0, 87.56660891190681, 81.7103778513492), (87.56660891190681, 100.48397793211777, 93.7425837234625), (100.48397793211777, 117.75768250764908, 108.20342009238519), (117.75768250764908, 221.2, 131.68857575999743)]\n",
      "*************\n"
     ]
    }
   ],
   "source": [
    "# 1st random seed for generating the ranges\n",
    "np.random.seed(5)\n",
    "hormone_ranges_dic = {}\n",
    "\n",
    "# Generate the ranges for each hormone\n",
    "for hormone, dist in hormones.items():\n",
    "    mean, sd = dist\n",
    "    # Get the number of ranges to create\n",
    "    hormone_num_ranges = np.random.randint(5,11)\n",
    "    print(\"Number ranges \"+str(hormone_num_ranges))\n",
    "    hormone_ranges = []\n",
    "    \n",
    "    # Get the boundaries of each range\n",
    "    for i in range(1,hormone_num_ranges + 1):\n",
    "        # Get the current percentiles\n",
    "        lower_percentile = ((i-1)*100/hormone_num_ranges)\n",
    "        upper_percentile = (i*100/hormone_num_ranges)\n",
    "        mid_percentile = (lower_percentile+upper_percentile)/2\n",
    "        \n",
    "        # Get the values of those percentiles\n",
    "        lower_val = max(scipy.stats.norm.ppf(lower_percentile / 100, loc=mean, scale=sd),0)\n",
    "        upper_val = min(scipy.stats.norm.ppf(upper_percentile / 100, loc=mean, scale=sd), mean+4*sd)\n",
    "        middle_val = scipy.stats.norm.ppf(mid_percentile / 100, loc=mean, scale=sd)\n",
    "        hormone_ranges.append((lower_val, upper_val, middle_val))\n",
    "    hormone_ranges_dic[hormone] = hormone_ranges\n",
    "    \n",
    "for hormone, val_range in hormone_ranges_dic.items():\n",
    "    print(\"*************\")\n",
    "    print(hormone)\n",
    "    print(val_range)\n",
    "    print(\"*************\")"
   ]
  },
  {
   "cell_type": "code",
   "execution_count": 4,
   "id": "ecc376c9",
   "metadata": {},
   "outputs": [],
   "source": [
    "np.random.seed(10)\n",
    "ocps = np.arange(1,11)\n",
    "ocp1={}\n",
    "ocp2={}\n",
    "ocp3={}\n",
    "ocp4={}\n",
    "ocp5={}\n",
    "ocp6={}\n",
    "ocp7={}\n",
    "ocp8={}\n",
    "ocp9={}\n",
    "ocp10={}\n",
    "ocp_dic = [ocp1,ocp2,ocp3,ocp4,ocp5,ocp6,ocp7,ocp8,ocp9,ocp10]\n",
    "for hormone, val_ranges in hormone_ranges_dic.items():\n",
    "    np.random.shuffle(ocps)\n",
    "    for i in range(len(val_ranges)):\n",
    "        (ocp_dic[i-1])[hormone] = val_ranges[i]\n",
    "    for i in range(len(val_ranges),10):\n",
    "        (ocp_dic[i-1])[hormone] = \"NC\""
   ]
  },
  {
   "cell_type": "code",
   "execution_count": 5,
   "id": "29d9770a",
   "metadata": {},
   "outputs": [
    {
     "data": {
      "text/plain": [
       "[{'lh_fsh_ratio': (0.8947554337367944, 1.2278571748627427, 1.0789974086867868),\n",
       "  'estradiol': (60.55926196700892, 69.8417919716115, 65.73125548168103),\n",
       "  'testosterone': (47.9187675833157, 64.3316158225112, 56.76922569544567),\n",
       "  'progesterone_17oh': (0.632578433898299,\n",
       "   1.1692727007045427,\n",
       "   0.9255102498039184),\n",
       "  'dheas': (0, 489.7483602583587, 181.88589766620714),\n",
       "  'androstenedione': (0, 1.9117484027185356, 1.0400872657626863),\n",
       "  'amh': (34.24231749235092, 51.51602206788223, 43.796579907614806)},\n",
       " {'lh_fsh_ratio': (1.2278571748627427, 1.4769524452249374, 1.3578565122197312),\n",
       "  'estradiol': (69.8417919716115, 76.53514918186033, 73.36826627086268),\n",
       "  'testosterone': (64.3316158225112, 78.46838417748882, 71.4),\n",
       "  'progesterone_17oh': (1.1692727007045427, 1.6, 1.3895716057520755),\n",
       "  'dheas': (489.7483602583587, 1065.2516397416414, 777.5),\n",
       "  'androstenedione': (1.9117484027185356,\n",
       "   3.3478726130295335,\n",
       "   2.6653400692459535),\n",
       "  'amh': (51.51602206788223, 64.43339108809319, 58.2574162765375)},\n",
       " {'lh_fsh_ratio': (1.4769524452249374, 1.7, 1.5898825207728804),\n",
       "  'estradiol': (76.53514918186033, 82.25437612383462, 79.46973815880031),\n",
       "  'testosterone': (78.46838417748882, 94.88123241668431, 86.03077430455434),\n",
       "  'progesterone_17oh': (1.6, 2.030727299295458, 1.810428394247925),\n",
       "  'dheas': (1065.2516397416414, 1733.4133970921162, 1373.1141023337925),\n",
       "  'androstenedione': (3.3478726130295335,\n",
       "   4.599245714807993,\n",
       "   3.9864705676312147),\n",
       "  'amh': (64.43339108809319, 76.0, 70.2896221486508)},\n",
       " {'lh_fsh_ratio': (1.7, 1.9230475547750625, 1.8101174792271195),\n",
       "  'estradiol': (82.25437612383462, 87.6, 84.94854558135793),\n",
       "  'testosterone': (94.88123241668431, inf, 107.15528867869435),\n",
       "  'progesterone_17oh': (2.030727299295458,\n",
       "   2.567421566101701,\n",
       "   2.2744897501960817),\n",
       "  'dheas': (1733.4133970921162, inf, 2233.0862681455574),\n",
       "  'androstenedione': (4.599245714807993, 5.800754285192007, 5.2),\n",
       "  'amh': (76.0, 87.56660891190681, 81.7103778513492)},\n",
       " {'lh_fsh_ratio': (1.9230475547750625, 2.172142825137257, 2.0421434877802684),\n",
       "  'estradiol': (87.6, 92.94562387616537, 90.25145441864206),\n",
       "  'testosterone': 'NC',\n",
       "  'progesterone_17oh': (2.567421566101701, inf, 2.9829941271006373),\n",
       "  'dheas': 'NC',\n",
       "  'androstenedione': (5.800754285192007, 7.052127386970469, 6.413529432368786),\n",
       "  'amh': (87.56660891190681, 100.48397793211777, 93.7425837234625)},\n",
       " {'lh_fsh_ratio': (2.172142825137257, 2.5052445662632055, 2.321002591313213),\n",
       "  'estradiol': (92.94562387616537, 98.66485081813966, 95.73026184119968),\n",
       "  'testosterone': 'NC',\n",
       "  'progesterone_17oh': 'NC',\n",
       "  'dheas': 'NC',\n",
       "  'androstenedione': (7.052127386970469, 8.488251597281462, 7.734659930754049),\n",
       "  'amh': (100.48397793211777, 117.75768250764908, 108.20342009238519)},\n",
       " {'lh_fsh_ratio': (2.5052445662632055, inf, 2.7738843810467824),\n",
       "  'estradiol': (98.66485081813966, 105.35820802838849, 101.83173372913731),\n",
       "  'testosterone': 'NC',\n",
       "  'progesterone_17oh': 'NC',\n",
       "  'dheas': 'NC',\n",
       "  'androstenedione': (8.488251597281462,\n",
       "   10.448753500043603,\n",
       "   9.359912734237312),\n",
       "  'amh': (117.75768250764908, inf, 131.68857575999743)},\n",
       " {'lh_fsh_ratio': 'NC',\n",
       "  'estradiol': (105.35820802838849, 114.64073803299107, 109.46874451831896),\n",
       "  'testosterone': 'NC',\n",
       "  'progesterone_17oh': 'NC',\n",
       "  'dheas': 'NC',\n",
       "  'androstenedione': (10.448753500043603, inf, 12.050840917499116),\n",
       "  'amh': 'NC'},\n",
       " {'lh_fsh_ratio': 'NC',\n",
       "  'estradiol': (114.64073803299107, inf, 122.30641152867605),\n",
       "  'testosterone': 'NC',\n",
       "  'progesterone_17oh': 'NC',\n",
       "  'dheas': 'NC',\n",
       "  'androstenedione': 'NC',\n",
       "  'amh': 'NC'},\n",
       " {'lh_fsh_ratio': (0, 0.8947554337367944, 0.6261156189532175),\n",
       "  'estradiol': (0, 60.55926196700892, 52.893588471323916),\n",
       "  'testosterone': (0, 47.9187675833157, 35.64471132130566),\n",
       "  'progesterone_17oh': (0, 0.632578433898299, 0.21700587289936202),\n",
       "  'dheas': (0, -178.41339709211593, -678.0862681455571),\n",
       "  'androstenedione': (0, -0.048753500043605236, -1.6508409174991172),\n",
       "  'amh': (0, 34.24231749235092, 20.311424240002573)}]"
      ]
     },
     "execution_count": 5,
     "metadata": {},
     "output_type": "execute_result"
    }
   ],
   "source": [
    "ocp_dic"
   ]
  },
  {
   "cell_type": "code",
   "execution_count": null,
   "id": "a7ae7d30",
   "metadata": {},
   "outputs": [],
   "source": [
    "# \"lh_fsh_ratio\" : (1.7,0.7),\n",
    "# \"estradiol\" : (87.6,21.1),\n",
    "# \"testosterone\" : (71.4,27.9),\n",
    "# \"progesterone_17oh\" : (1.6,1),\n",
    "# \"dheas\" : (777.5,1135.8),\n",
    "# \"androstenedione\" : (5.2,4.3),\n",
    "# \"amh\" : (76.0, 36.3)\n",
    "np.random.seed(15)\n",
    "\n",
    "true_variances = [0.7**2, 21.1**2, 27.9**2, 1**2, 1135.8**2, 4.3**2, 36.3**2]\n",
    "#covariance_matrix = np.zeros((7,7))\n",
    "np.fill_diagonal(covariance_matrix, true_variances)\n",
    "#mean_variance = np.mean(true_variances)\n",
    "\n",
    "#for i in range(7):\n",
    "    #for j in range(7):\n",
    "        #if(i != j and covariance_matrix[i,j] == 0):\n",
    "            #new_val = np.random.randint(0,1000)\n",
    "            #covariance_matrix[i,j] = new_val\n",
    "            #covariance_matrix[j,i] = new_val\n",
    "    \n",
    "rounds = 0\n",
    "while(True):\n",
    "    i = np.random.randint(0,7)\n",
    "    j = np.random.randint(0,7)\n",
    "    if(i != j):\n",
    "        add = np.random.randint(0,2)\n",
    "        if(add == 0 and covariance_matrix[i,j] > 0 ):\n",
    "            covariance_matrix[i,j] -= 1\n",
    "            covariance_matrix[j,i] -= 1\n",
    "            rounds += 1\n",
    "        else:\n",
    "            covariance_matrix[i,j] += 1\n",
    "            covariance_matrix[j,i] += 1\n",
    "            rounds += 1\n",
    "    \n",
    "    try:\n",
    "        inverse_matrix = np.linalg.inv(covariance_matrix)\n",
    "        #print(\"The matrix is invertible.\")\n",
    "        w, v = np.linalg.eig(covariance_matrix)\n",
    "        if(np.any(w < 0)):\n",
    "            continue\n",
    "            #print(\"There are negative eigens\")\n",
    "        else:\n",
    "            print(\"No negative eigens\")\n",
    "            if(rounds >= 2):\n",
    "                break\n",
    "        #print(\"Inverse matrix:\\n\", inverse_matrix)\n",
    "    except np.linalg.LinAlgError:\n",
    "        print(\"The matrix is not invertible.\")\n",
    "            \n",
    "    \n",
    "\n",
    "#covariance_matrix = np.random.randint(0, high = 100, size=(7,7))\n",
    "#np.fill_diagonal(covariance_matrix, true_variances)\n",
    "\n",
    "#symmetric_cov = covariance_matrix + np.transpose(covariance_matrix) - np.diag(covariance_matrix.diagonal())\n"
   ]
  },
  {
   "cell_type": "code",
   "execution_count": 30,
   "id": "cbe0dd4c",
   "metadata": {},
   "outputs": [
    {
     "data": {
      "text/plain": [
       "array([[4.90000000e-01, 0.00000000e+00, 0.00000000e+00, 0.00000000e+00,\n",
       "        0.00000000e+00, 0.00000000e+00, 0.00000000e+00],\n",
       "       [0.00000000e+00, 4.45210000e+02, 0.00000000e+00, 0.00000000e+00,\n",
       "        0.00000000e+00, 0.00000000e+00, 1.00000000e+00],\n",
       "       [0.00000000e+00, 0.00000000e+00, 7.78410000e+02, 0.00000000e+00,\n",
       "        0.00000000e+00, 0.00000000e+00, 0.00000000e+00],\n",
       "       [0.00000000e+00, 0.00000000e+00, 0.00000000e+00, 1.00000000e+00,\n",
       "        0.00000000e+00, 0.00000000e+00, 0.00000000e+00],\n",
       "       [0.00000000e+00, 0.00000000e+00, 0.00000000e+00, 0.00000000e+00,\n",
       "        1.29004164e+06, 0.00000000e+00, 0.00000000e+00],\n",
       "       [0.00000000e+00, 0.00000000e+00, 0.00000000e+00, 0.00000000e+00,\n",
       "        0.00000000e+00, 1.84900000e+01, 0.00000000e+00],\n",
       "       [0.00000000e+00, 1.00000000e+00, 0.00000000e+00, 0.00000000e+00,\n",
       "        0.00000000e+00, 0.00000000e+00, 1.31769000e+03]])"
      ]
     },
     "execution_count": 30,
     "metadata": {},
     "output_type": "execute_result"
    }
   ],
   "source": [
    "covariance_matrix"
   ]
  },
  {
   "cell_type": "code",
   "execution_count": 23,
   "id": "1dd9b5f7",
   "metadata": {},
   "outputs": [
    {
     "name": "stdout",
     "output_type": "stream",
     "text": [
      "The matrix is invertible.\n",
      "Inverse matrix:\n",
      " [[-4.87826380e-02  4.01124433e-03 -5.00624539e-04  1.60501860e-02\n",
      "   1.88644552e-06  1.38320105e-03  2.66721515e-03]\n",
      " [ 4.01124433e-03  3.61847956e-03  2.47042710e-04 -4.02601164e-03\n",
      "   1.65610865e-07 -4.12241866e-03  3.80909206e-05]\n",
      " [-5.00624539e-04  2.47042710e-04  1.49751735e-03 -8.13254536e-04\n",
      "   9.52701834e-08 -1.17183378e-03  9.54746311e-05]\n",
      " [ 1.60501860e-02 -4.02601164e-03 -8.13254536e-04 -3.52253131e-03\n",
      "  -1.57901292e-06  1.00590237e-02 -1.58272653e-03]\n",
      " [ 1.88644552e-06  1.65610865e-07  9.52701834e-08 -1.57901292e-06\n",
      "   7.75191364e-07 -7.37912426e-07 -7.65267919e-08]\n",
      " [ 1.38320105e-03 -4.12241866e-03 -1.17183378e-03  1.00590237e-02\n",
      "  -7.37912426e-07  4.85966658e-03 -8.14198611e-04]\n",
      " [ 2.66721515e-03  3.80909206e-05  9.54746311e-05 -1.58272653e-03\n",
      "  -7.65267919e-08 -8.14198611e-04  6.94265488e-04]]\n"
     ]
    }
   ],
   "source": [
    "try:\n",
    "    inverse_matrix = np.linalg.inv(symmetric_cov)\n",
    "    print(\"The matrix is invertible.\")\n",
    "    print(\"Inverse matrix:\\n\", inverse_matrix)\n",
    "except np.linalg.LinAlgError:\n",
    "    print(\"The matrix is not invertible.\")"
   ]
  },
  {
   "cell_type": "code",
   "execution_count": 15,
   "id": "0f6519d5",
   "metadata": {},
   "outputs": [],
   "source": [
    "symmetric_cov[symmetric_cov < 0] = 0"
   ]
  },
  {
   "cell_type": "code",
   "execution_count": 24,
   "id": "ea91a0e2",
   "metadata": {},
   "outputs": [
    {
     "name": "stdout",
     "output_type": "stream",
     "text": [
      "lh_fsh_ratio\n",
      "estradiol\n",
      "testosterone\n",
      "progesterone_17oh\n",
      "dheas\n",
      "androstenedione\n",
      "amh\n",
      "lh_fsh_ratio\n",
      "estradiol\n",
      "testosterone\n",
      "progesterone_17oh\n",
      "dheas\n",
      "androstenedione\n",
      "amh\n",
      "lh_fsh_ratio\n",
      "estradiol\n",
      "testosterone\n",
      "progesterone_17oh\n",
      "dheas\n",
      "androstenedione\n",
      "amh\n",
      "lh_fsh_ratio\n",
      "estradiol\n",
      "testosterone\n",
      "progesterone_17oh\n",
      "dheas\n",
      "androstenedione\n",
      "amh\n",
      "lh_fsh_ratio\n",
      "estradiol\n",
      "testosterone\n",
      "progesterone_17oh\n",
      "dheas\n",
      "androstenedione\n",
      "amh\n",
      "lh_fsh_ratio\n",
      "estradiol\n",
      "testosterone\n",
      "progesterone_17oh\n",
      "dheas\n",
      "androstenedione\n",
      "amh\n",
      "lh_fsh_ratio\n",
      "estradiol\n",
      "testosterone\n",
      "progesterone_17oh\n",
      "dheas\n",
      "androstenedione\n",
      "amh\n",
      "lh_fsh_ratio\n",
      "estradiol\n",
      "testosterone\n",
      "progesterone_17oh\n",
      "dheas\n",
      "androstenedione\n",
      "amh\n",
      "lh_fsh_ratio\n",
      "estradiol\n",
      "testosterone\n",
      "progesterone_17oh\n",
      "dheas\n",
      "androstenedione\n",
      "amh\n",
      "lh_fsh_ratio\n",
      "estradiol\n",
      "testosterone\n",
      "progesterone_17oh\n",
      "dheas\n",
      "androstenedione\n",
      "amh\n"
     ]
    },
    {
     "name": "stderr",
     "output_type": "stream",
     "text": [
      "/var/folders/3s/qwdpm4r120dfq35p7q81_pmr0000gn/T/ipykernel_92930/3029216340.py:17: RuntimeWarning: invalid value encountered in sqrt\n",
      "  sigma = np.sqrt(w) * v\n"
     ]
    }
   ],
   "source": [
    "N = 1000\n",
    "all_patients = []\n",
    "for curr_ocp in ocp_dic:\n",
    "    mu = []\n",
    "    for hormone, range_set in curr_ocp.items():\n",
    "        print(hormone)\n",
    "        if(range_set != \"NC\"):\n",
    "            mu.append(range_set[2])\n",
    "        else:\n",
    "            mu.append((hormones[hormone])[0])\n",
    "    \n",
    "    # get the mean vector\n",
    "    mu_vec =np.array([mu]).T\n",
    "\n",
    "    # get \"square root\" of covariance matrix via eigenfactorization\n",
    "    w, v = np.linalg.eig(symmetric_cov)\n",
    "    sigma = np.sqrt(w) * v\n",
    "\n",
    "    # generate data\n",
    "    patients = sigma @ np.random.randn(7, N) + mu_vec\n",
    "    all_patients.append(patients)"
   ]
  },
  {
   "cell_type": "code",
   "execution_count": 25,
   "id": "a63c1177",
   "metadata": {},
   "outputs": [
    {
     "data": {
      "text/plain": [
       "array([ 1.29004104e+06,  1.36190845e+03,  8.35816705e+02,  4.59979389e+02,\n",
       "       -1.43927017e+02, -1.83368870e+01,  6.35206963e+01])"
      ]
     },
     "execution_count": 25,
     "metadata": {},
     "output_type": "execute_result"
    }
   ],
   "source": [
    "w"
   ]
  },
  {
   "cell_type": "code",
   "execution_count": 9,
   "id": "74899513",
   "metadata": {},
   "outputs": [
    {
     "data": {
      "text/plain": [
       "array([[nan, nan, nan, ..., nan, nan, nan],\n",
       "       [nan, nan, nan, ..., nan, nan, nan],\n",
       "       [nan, nan, nan, ..., nan, nan, nan],\n",
       "       ...,\n",
       "       [nan, nan, nan, ..., nan, nan, nan],\n",
       "       [nan, nan, nan, ..., nan, nan, nan],\n",
       "       [nan, nan, nan, ..., nan, nan, nan]])"
      ]
     },
     "execution_count": 9,
     "metadata": {},
     "output_type": "execute_result"
    }
   ],
   "source": [
    "all_patients[0]"
   ]
  },
  {
   "cell_type": "code",
   "execution_count": null,
   "id": "fd7ac073",
   "metadata": {},
   "outputs": [],
   "source": []
  }
 ],
 "metadata": {
  "kernelspec": {
   "display_name": "Python 3 (ipykernel)",
   "language": "python",
   "name": "python3"
  },
  "language_info": {
   "codemirror_mode": {
    "name": "ipython",
    "version": 3
   },
   "file_extension": ".py",
   "mimetype": "text/x-python",
   "name": "python",
   "nbconvert_exporter": "python",
   "pygments_lexer": "ipython3",
   "version": "3.8.13"
  }
 },
 "nbformat": 4,
 "nbformat_minor": 5
}
