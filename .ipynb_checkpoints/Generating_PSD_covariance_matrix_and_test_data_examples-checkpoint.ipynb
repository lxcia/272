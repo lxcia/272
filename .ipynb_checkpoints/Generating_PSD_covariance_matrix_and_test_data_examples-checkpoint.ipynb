{
 "cells": [
  {
   "cell_type": "code",
   "execution_count": 1,
   "metadata": {
    "executionInfo": {
     "elapsed": 206,
     "status": "ok",
     "timestamp": 1684885813299,
     "user": {
      "displayName": "Bowen Jiang",
      "userId": "16505810748545332074"
     },
     "user_tz": 420
    },
    "id": "2iqupMQBqTsy"
   },
   "outputs": [],
   "source": [
    "import numpy as np"
   ]
  },
  {
   "cell_type": "code",
   "execution_count": 2,
   "metadata": {
    "executionInfo": {
     "elapsed": 2,
     "status": "ok",
     "timestamp": 1684885813555,
     "user": {
      "displayName": "Bowen Jiang",
      "userId": "16505810748545332074"
     },
     "user_tz": 420
    },
    "id": "kE5ZttmWqgrT"
   },
   "outputs": [],
   "source": [
    "def generate_cov_matrix(SDs): \n",
    "  #Input - SDs (np array of standard deviations of features)\n",
    "  #Output - a square np array of covariances, to be tested later for PSD-ness \n",
    "  \n",
    "  #Initialize square covariance matrix\n",
    "  cov = np.zeros((SDs.shape[0], SDs.shape[0]))\n",
    "  #Loop through all pairwise variable combos\n",
    "  for i in range(SDs.shape[0]):\n",
    "    for j in range(i, SDs.shape[0]):\n",
    "      #Set diagonals: variance = SD squared\n",
    "      if i == j:\n",
    "        cov[i,j] = SDs[i]**2\n",
    "      #Set non-diagonal covariances \n",
    "      else:\n",
    "        #Set bounds on covariance - maximum magnitude is SD[first variable] * SD[second variable]\n",
    "        max_cov = SDs[i]*SDs[j]\n",
    "        #Sample uniformly from the range of (-max magnitude, +max magnitude)\n",
    "        covariance = np.random.uniform(low=-max_cov, high=max_cov)\n",
    "        #Set diagonals of matrix \n",
    "        cov[i,j] = covariance\n",
    "        cov[j,i] = covariance\n",
    "  return cov"
   ]
  },
  {
   "cell_type": "code",
   "execution_count": 3,
   "metadata": {
    "executionInfo": {
     "elapsed": 3,
     "status": "ok",
     "timestamp": 1684885813556,
     "user": {
      "displayName": "Bowen Jiang",
      "userId": "16505810748545332074"
     },
     "user_tz": 420
    },
    "id": "PrEk4awmrVnc"
   },
   "outputs": [],
   "source": [
    "def generate_valid_cov_matrix(SDs):\n",
    "  \"\"\"Input - SDs (np array of standard deviations of features)\n",
    "  Output - tuple of: (\n",
    "    a valid, positive semidefinite symmetric (square) covariance matrix;\n",
    "    eigenvalue array, of same shape as SD array (hopefully);\n",
    "    unit-length eigenvector matrix\n",
    "    )\n",
    "  \"\"\"\n",
    "\n",
    "  #Initialize covariance, eigenvalue-calculation variables \n",
    "  cov = None\n",
    "  w = None\n",
    "  v = None\n",
    "  #Counter for iterations\n",
    "  i = 0\n",
    "  #Loop until PSD matrix is generated \n",
    "  while True: \n",
    "    i += 1\n",
    "    cov = generate_cov_matrix(SDs)\n",
    "    try:\n",
    "      #Decomposition\n",
    "      w, v = np.linalg.eig(cov)\n",
    "      #Stop the loop if all eigenvectors are positive\n",
    "      if sum(np.where(w > 0, 1, 0)) == SDs.shape[0]:\n",
    "        break\n",
    "    #If we generate a non-invertible matrix - retry \n",
    "    except:\n",
    "      continue\n",
    "  \n",
    "  #Print some basic info\n",
    "  print(f\"Valid covariance matrix generated after {i} attempts!\")\n",
    "  print(f\"Number of negative covariances: {np.sum(np.where(cov < 0, 1, 0))} (of {SDs.shape[0]**2} total covariances)\")\n",
    "  return cov, w, v"
   ]
  },
  {
   "cell_type": "code",
   "execution_count": 4,
   "metadata": {
    "executionInfo": {
     "elapsed": 4,
     "status": "ok",
     "timestamp": 1684885813557,
     "user": {
      "displayName": "Bowen Jiang",
      "userId": "16505810748545332074"
     },
     "user_tz": 420
    },
    "id": "PKvpL68p8rFc"
   },
   "outputs": [],
   "source": [
    "#Copied from old notebook\n",
    "SDs = np.array([0.7, 21.1, 27.9, 1, 1135.8, 4.3, 36.3])"
   ]
  },
  {
   "cell_type": "code",
   "execution_count": 5,
   "metadata": {
    "colab": {
     "base_uri": "https://localhost:8080/"
    },
    "executionInfo": {
     "elapsed": 45186,
     "status": "ok",
     "timestamp": 1684885858739,
     "user": {
      "displayName": "Bowen Jiang",
      "userId": "16505810748545332074"
     },
     "user_tz": 420
    },
    "id": "naO5rvM48rDB",
    "outputId": "f71c6ee5-0706-49e2-b9d5-93b9afa77e8f"
   },
   "outputs": [
    {
     "name": "stdout",
     "output_type": "stream",
     "text": [
      "Valid covariance matrix generated after 273118 attempts!\n",
      "Number of negative covariances: 18 (of 49 total covariances)\n"
     ]
    }
   ],
   "source": [
    "#Test out! \n",
    "cov, w, v = generate_valid_cov_matrix(SDs)"
   ]
  },
  {
   "cell_type": "code",
   "execution_count": 6,
   "metadata": {
    "executionInfo": {
     "elapsed": 4,
     "status": "ok",
     "timestamp": 1684885858739,
     "user": {
      "displayName": "Bowen Jiang",
      "userId": "16505810748545332074"
     },
     "user_tz": 420
    },
    "id": "UAL2n3Ac8x-L"
   },
   "outputs": [],
   "source": [
    "#Testing out random data generation \n",
    "means = np.array([1.7, 87.6, 71.4, 1.6, 777.5, 5.2, 76.0]) #from old notebook\n",
    "sigma = np.sqrt(w) * v #get covariance-corrected SDs \n",
    "\n",
    "#In the unvariate example, this is like \"undoing\" z-score\n",
    "#Multiply \"z-scores\" (randomly sampled from standard normal distribution) by \n",
    "#standard deviation, then add means, to generate random data vectors \n",
    "ten_test_examples = (sigma @ np.random.normal(loc=0, scale=1, size=(means.shape[0], 10)) + means[:, np.newaxis]).T"
   ]
  },
  {
   "cell_type": "code",
   "execution_count": 7,
   "metadata": {
    "colab": {
     "base_uri": "https://localhost:8080/"
    },
    "executionInfo": {
     "elapsed": 4,
     "status": "ok",
     "timestamp": 1684885858740,
     "user": {
      "displayName": "Bowen Jiang",
      "userId": "16505810748545332074"
     },
     "user_tz": 420
    },
    "id": "RNObvF_n9mgb",
    "outputId": "11369b01-3b5b-4b00-c7ce-a2e3c0f2e97c"
   },
   "outputs": [
    {
     "data": {
      "text/plain": [
       "array([[ 2.79557737e+00,  8.56643552e+01,  1.44511554e+01,\n",
       "         1.77894055e+00,  1.44728752e+03,  8.84895631e+00,\n",
       "         5.74099312e+01],\n",
       "       [ 2.33041564e+00,  1.05766704e+02,  8.85271280e+01,\n",
       "         3.45416600e-01, -3.10445037e+02,  5.90187846e+00,\n",
       "         1.32553275e+01],\n",
       "       [ 1.95729089e+00,  1.05584186e+02,  5.18764280e+01,\n",
       "         3.04675258e-01,  2.15542973e+03,  8.57695501e+00,\n",
       "         6.47662954e+01],\n",
       "       [ 1.72973892e+00,  1.05234266e+02,  3.41179187e+00,\n",
       "         6.92008715e-01,  7.57246740e+02,  8.03368054e+00,\n",
       "         6.41372230e+01],\n",
       "       [ 1.89000503e+00,  1.08610227e+02,  6.85910369e+01,\n",
       "         2.02683131e+00,  1.43525767e+03,  1.38224662e+00,\n",
       "         3.84158174e+01],\n",
       "       [ 1.78158738e+00,  7.70589609e+01,  4.35952546e+01,\n",
       "         9.43654923e-01, -2.47613558e+02,  5.02542232e+00,\n",
       "         5.14556473e+01],\n",
       "       [ 1.65641900e+00,  8.25360102e+01,  2.76517776e+01,\n",
       "         2.93852364e+00,  9.06384704e+02,  1.68858363e+00,\n",
       "         9.92822861e+01],\n",
       "       [ 2.06113234e+00,  7.28373736e+01,  4.33828622e+01,\n",
       "         2.67609934e+00,  4.09416633e+02,  1.16827824e+00,\n",
       "         5.50807727e+01],\n",
       "       [ 8.47649090e-01,  1.15103924e+02,  6.40036596e+01,\n",
       "         3.11118579e+00,  1.94176448e+03,  6.73130952e+00,\n",
       "         1.18125348e+02],\n",
       "       [ 2.02720276e+00,  8.32510252e+01,  6.33504259e+01,\n",
       "         1.16210480e+00,  4.97399506e+02,  3.18411629e+00,\n",
       "         4.40442161e+01]])"
      ]
     },
     "execution_count": 7,
     "metadata": {},
     "output_type": "execute_result"
    }
   ],
   "source": [
    "#Note - some of our features are CLEARLY not Gaussian because they have large SDs but\n",
    "#the lab readings can't be negative - how do we handle this behavior? \n",
    "\n",
    "#One idea might be to standardize each variable (e.g. subtract mean from all values, divide by SD),\n",
    "#Calculate covariance matrix on that, and generate non-standard Gaussian \"seeds\"? But lots of work\n",
    "#Or maybe start with a non-Gaussian \"seed\" in the above code instead of np.random.normal() (preferred), \n",
    "#or set The \"scale\" argument to be <1 - that way, we don't generate any negative values (hacky but probably ok)\n",
    "ten_test_examples "
   ]
  },
  {
   "cell_type": "code",
   "execution_count": 7,
   "metadata": {
    "executionInfo": {
     "elapsed": 3,
     "status": "ok",
     "timestamp": 1684885858740,
     "user": {
      "displayName": "Bowen Jiang",
      "userId": "16505810748545332074"
     },
     "user_tz": 420
    },
    "id": "XcssQXIo9rZK"
   },
   "outputs": [],
   "source": []
  }
 ],
 "metadata": {
  "colab": {
   "authorship_tag": "ABX9TyM28EaieW20Kid61lpC9ohd",
   "provenance": []
  },
  "kernelspec": {
   "display_name": "Python 3 (ipykernel)",
   "language": "python",
   "name": "python3"
  },
  "language_info": {
   "codemirror_mode": {
    "name": "ipython",
    "version": 3
   },
   "file_extension": ".py",
   "mimetype": "text/x-python",
   "name": "python",
   "nbconvert_exporter": "python",
   "pygments_lexer": "ipython3",
   "version": "3.8.13"
  }
 },
 "nbformat": 4,
 "nbformat_minor": 1
}
